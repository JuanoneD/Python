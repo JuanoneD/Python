{
 "cells": [
  {
   "cell_type": "code",
   "execution_count": 1,
   "metadata": {},
   "outputs": [],
   "source": [
    "import numpy as np\n",
    "import matplotlib.pyplot as plt"
   ]
  },
  {
   "cell_type": "code",
   "execution_count": 2,
   "metadata": {},
   "outputs": [],
   "source": [
    "numEpocas = 100   \n",
    "q = 13               \n",
    "eta = 0.01            \n",
    "m = 2                 \n",
    "N = 4                 \n",
    "L = 1       "
   ]
  },
  {
   "cell_type": "code",
   "execution_count": 3,
   "metadata": {},
   "outputs": [],
   "source": [
    "peso = np.array([113, 122, 107,  98, 115, 120, 104, 108, 117, 101, 112, 106, 116])\n",
    "pH   = np.array([6.8, 4.7, 5.2, 3.6, 2.9, 4.2, 6.3, 4.0, 6.3, 4.2, 5.6, 3.1, 5.0])\n",
    "d = np.array([-1, 1, -1, 1, 1, 1, -1, 1, -1, 1, -1, 1, -1])\n",
    "W1 = np.random.random((N, m + 1))\n",
    "W2 = np.random.random((L, N + 1))\n",
    "bias = 1\n",
    "X = np.vstack((peso, pH))\n",
    "E = np.zeros(q)\n",
    "Etm = np.zeros(numEpocas) \n"
   ]
  },
  {
   "cell_type": "code",
   "execution_count": 4,
   "metadata": {},
   "outputs": [
    {
     "name": "stdout",
     "output_type": "stream",
     "text": [
      "[[0.17490158 0.52382696 0.91747062]\n",
      " [0.20125511 0.24156671 0.58240349]\n",
      " [0.04163022 0.18856143 0.24210873]\n",
      " [0.47087823 0.25034603 0.66099109]]\n"
     ]
    }
   ],
   "source": [
    "print(W1)"
   ]
  },
  {
   "cell_type": "code",
   "execution_count": 6,
   "metadata": {},
   "outputs": [],
   "source": [
    "for i in range(numEpocas):\n",
    "    for j in range(len(X[0])):\n",
    "        Xb = np.hstack((bias,X[:,j]))\n",
    "        o1 = np.tanh(W1.dot(Xb))\n",
    "        o1b = np.insert(o1,0,bias)\n",
    "        Y = np.tanh(W2.dot(o1b))\n",
    "        e = d[j] - Y\n",
    "        E[j] = (e.transpose().dot(e))/2\n",
    "        delta2 = np.diag(e).dot((1 - Y*Y))        \n",
    "        vdelta2 = (W2.transpose()).dot(delta2)      \n",
    "        delta1 = np.diag(1 - o1b*o1b).dot(vdelta2) \n",
    "        W1 = W1 + eta*(np.outer(delta1[1:], Xb))\n",
    "        W2 = W2 + eta*(np.outer(delta2, o1b))\n",
    "Etm[i] = E.mean()\n",
    "\n"
   ]
  }
 ],
 "metadata": {
  "kernelspec": {
   "display_name": "Python 3",
   "language": "python",
   "name": "python3"
  },
  "language_info": {
   "codemirror_mode": {
    "name": "ipython",
    "version": 3
   },
   "file_extension": ".py",
   "mimetype": "text/x-python",
   "name": "python",
   "nbconvert_exporter": "python",
   "pygments_lexer": "ipython3",
   "version": "3.12.6"
  }
 },
 "nbformat": 4,
 "nbformat_minor": 2
}
